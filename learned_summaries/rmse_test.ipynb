{
 "cells": [
  {
   "cell_type": "code",
   "id": "c97f80f675e76381",
   "metadata": {
    "ExecuteTime": {
     "end_time": "2025-07-09T10:45:27.983300Z",
     "start_time": "2025-07-09T10:45:25.159530Z"
    }
   },
   "source": [
    "import pickle\n",
    "import numpy as np\n",
    "from summary_stats import compute_rmse\n",
    "import pyabc"
   ],
   "outputs": [],
   "execution_count": 1
  },
  {
   "metadata": {
    "ExecuteTime": {
     "end_time": "2025-07-09T10:45:28.053538Z",
     "start_time": "2025-07-09T10:45:28.048462Z"
    }
   },
   "cell_type": "code",
   "source": [
    "obs_pars = {\n",
    "    'gradient_strength': 100.,  # strength of the gradient of chemotaxis\n",
    "    'move.strength': 10.,  # strength of directed motion\n",
    "    'move.duration.mean': 0.1,  # mean of exponential distribution (seconds)\n",
    "    'cell_nodes_real': 50.,  # area of the cell (\\mu m^2), macrophages have a volume of 4990\\mu m^3 -> radius of 17 if they would are sphere\n",
    "}\n",
    "\n",
    "obs_pars_log = {key: np.log10(val) for key, val in obs_pars.items()}\n",
    "limits = {'gradient_strength': (1, 10000), #(10 ** 4, 10 ** 8),\n",
    "          'move.strength': (1, 100),\n",
    "          'move.duration.mean': (1e-4, 30), #(math.log10((10 ** -2) * 30), math.log10((10 ** 4))), # smallest time step in simulation 5\n",
    "          'cell_nodes_real': (1, 300)}\n",
    "limits_log = {key: (np.log10(val[0]), np.log10(val[1])) for key, val in limits.items()}\n",
    "\n",
    "\n",
    "prior = pyabc.Distribution(**{key: pyabc.RV(\"uniform\", loc=lb, scale=ub-lb)\n",
    "                              for key, (lb, ub) in limits_log.items()})"
   ],
   "id": "b026589f21a541f3",
   "outputs": [],
   "execution_count": 2
  },
  {
   "metadata": {
    "ExecuteTime": {
     "end_time": "2025-07-09T10:45:28.070997Z",
     "start_time": "2025-07-09T10:45:28.064953Z"
    }
   },
   "cell_type": "code",
   "source": [
    "# load test data\n",
    "posterior_samples_list = []\n",
    "test_params = []\n",
    "\n",
    "for test_id in [0,1,2]:\n",
    "    np.random.seed(42+test_id)\n",
    "    test_params_i = np.array(list(prior.rvs().values()))\n",
    "    test_sim_i = np.load(f'test_sim_{test_id}.npy')\n",
    "\n",
    "    with open(f'posterior_samples_{test_id}.pickle', 'rb') as f:\n",
    "        posterior_samples_i = pickle.load(f)\n",
    "\n",
    "    posterior_samples_list.append(posterior_samples_i)\n",
    "    test_params.append(test_params_i)\n",
    "\n",
    "test_params = np.stack(test_params, axis=0)\n",
    "posterior_samples = {}\n",
    "for method in posterior_samples_list[0].keys():\n",
    "    posterior_samples[method] = np.stack([posterior_samples_list[i][method] for i in range(3)], axis=0)"
   ],
   "id": "initial_id",
   "outputs": [],
   "execution_count": 3
  },
  {
   "metadata": {
    "ExecuteTime": {
     "end_time": "2025-07-09T10:47:35.739417Z",
     "start_time": "2025-07-09T10:47:35.707202Z"
    }
   },
   "cell_type": "code",
   "source": [
    "for method in posterior_samples.keys():\n",
    "    if method == 'npe':\n",
    "        continue  # npe is computed on more data\n",
    "    rmse_params = compute_rmse(test_params, posterior_samples[method], normalize=True)\n",
    "    print(method, rmse_params.mean())"
   ],
   "id": "3d2beb409adcbbae",
   "outputs": [
    {
     "name": "stdout",
     "output_type": "stream",
     "text": [
      "abc 0.22968104065206413\n",
      "abc_mean 0.49376087474125724\n",
      "abc_npe 0.23162118736364878\n"
     ]
    }
   ],
   "execution_count": 6
  },
  {
   "metadata": {},
   "cell_type": "code",
   "source": "",
   "id": "f13695609280d7c7",
   "outputs": [],
   "execution_count": null
  }
 ],
 "metadata": {
  "kernelspec": {
   "display_name": "Python 3",
   "language": "python",
   "name": "python3"
  },
  "language_info": {
   "codemirror_mode": {
    "name": "ipython",
    "version": 2
   },
   "file_extension": ".py",
   "mimetype": "text/x-python",
   "name": "python",
   "nbconvert_exporter": "python",
   "pygments_lexer": "ipython2",
   "version": "2.7.6"
  }
 },
 "nbformat": 4,
 "nbformat_minor": 5
}
