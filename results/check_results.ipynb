{
 "cells": [
  {
   "metadata": {},
   "cell_type": "markdown",
   "source": "# Load results to compare the summary networks",
   "id": "fdd05db72cd46fd1"
  },
  {
   "metadata": {},
   "cell_type": "code",
   "source": [
    "# load the results images and plot them next to each other\n",
    "import matplotlib.pyplot as plt\n",
    "import matplotlib.image as mpimg\n",
    "import os"
   ],
   "id": "48448ece02efc5b7",
   "outputs": [],
   "execution_count": null
  },
  {
   "metadata": {},
   "cell_type": "code",
   "source": [
    "# get all folders in the current directory\n",
    "folders = [f for f in os.listdir() if os.path.isdir(f)]\n",
    "# remove old\n",
    "folders.remove(\"old\")\n",
    "folders.sort()\n",
    "# open all folders and plot them in a row\n",
    "result_images = [\"recovery.png\", \"Simulations.png\", \"Summary Stats.png\"]\n",
    "\n",
    "for img_name in result_images:\n",
    "    fig, ax = plt.subplots(3, len(folders)//2, tight_layout=True, figsize=(12, 10))\n",
    "    ax = ax.flatten()\n",
    "    for i, folder in enumerate(folders):\n",
    "        img = mpimg.imread(os.path.join(folder, img_name))\n",
    "        ax[i].imshow(img)\n",
    "        ax[i].axis('off')\n",
    "        ax[i].set_title(folder[25:])    \n",
    "    plt.show()"
   ],
   "id": "5865d37aa9e179a0",
   "outputs": [],
   "execution_count": null
  },
  {
   "metadata": {},
   "cell_type": "code",
   "source": [
    "# get all folders in the current directory\n",
    "folders = [f for f in os.listdir() if os.path.isdir(f)]\n",
    "folders.remove(\"old\")\n",
    "folders.sort()\n",
    "# open all folders and plot them in a row\n",
    "result_images = [\"Real_0 posterior_vs_prior.png\", \"Real_1 posterior_vs_prior.png\",\n",
    "                 \"Real_0 vs Simulations.png\", \"Real_1 vs Simulations.png\", \n",
    "                 \"Real_0 Summary Stats.png\",\"Real_1 Summary Stats.png\"]\n",
    "\n",
    "for img_name in result_images:\n",
    "    fig, ax = plt.subplots(3, len(folders)//2, tight_layout=True, figsize=(12, 10))\n",
    "    ax = ax.flatten()\n",
    "    for i, folder in enumerate(folders):\n",
    "        img = mpimg.imread(os.path.join(folder, img_name))\n",
    "        ax[i].imshow(img)\n",
    "        ax[i].axis('off')\n",
    "        ax[i].set_title(folder[25:])    \n",
    "    plt.show()"
   ],
   "id": "fd02d305051829d7",
   "outputs": [],
   "execution_count": null
  },
  {
   "metadata": {},
   "cell_type": "markdown",
   "source": [
    "## Results are very similar\n",
    "- all networks converged and are calibrated well\n",
    "- attention did improve the results\n",
    "- bidirectional lstm slightly improved the summary statistics\n",
    "- only two of five parameters are identifiable\n",
    "- simulations seems quite accurate\n",
    "- removing all nan samples made the results worse\n",
    "- MMD made the wasserstein distance a bit worse\n",
    "\n",
    "Summary statistics seems still different, hypothesis test tells us that most of the population distributions are different. However, MMD of summary latent space cannot distinguish between real and simulated data.\n",
    "\n",
    "Hybrid approach seems to further improve similarity between real and simulated data on summary statistics (should be the case, since similarity is computed on parts of the summary statistics).\n",
    "\n",
    "### Wasserstein Distances on Real Data Summary Statistics (sum over all statistics and data sets)\n",
    "- 7720.79: attention-7-bid-MMD-manual\n",
    "- 7335.52: attention-7-bid\n",
    "- 9046.98: attention-6-bid\n",
    "- 10420.47: attention-7-bid-MMD\n",
    "- 11474.32: attention-7\n",
    "- 11746.60: conv-6\n",
    "- 13099.88: conv-7\n",
    "\n",
    "New model (with correctly scaled data)\n",
    "- 7555.78: attention-7-bid-MMD-manual\n",
    "- --: attention-7-bid\n",
    "- --: attention-6-bid\n",
    "- --: attention-7-bid-MMD\n",
    "- --: attention-7\n",
    "- --: conv-6\n",
    "- --: conv-7\n",
    "\n",
    "\n",
    "# Next steps\n",
    "- try with more parameters (waiting time, surface constraints?)\n",
    "- shift prior\n"
   ],
   "id": "82836d5c9e3a5379"
  },
  {
   "metadata": {},
   "cell_type": "code",
   "source": "",
   "id": "6fa515e5c444d3c3",
   "outputs": [],
   "execution_count": null
  }
 ],
 "metadata": {
  "kernelspec": {
   "display_name": "Python 3",
   "language": "python",
   "name": "python3"
  },
  "language_info": {
   "codemirror_mode": {
    "name": "ipython",
    "version": 2
   },
   "file_extension": ".py",
   "mimetype": "text/x-python",
   "name": "python",
   "nbconvert_exporter": "python",
   "pygments_lexer": "ipython2",
   "version": "2.7.6"
  }
 },
 "nbformat": 4,
 "nbformat_minor": 5
}
